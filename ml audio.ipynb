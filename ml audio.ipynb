{
 "cells": [
  {
   "cell_type": "markdown",
   "metadata": {},
   "source": [
    "\n",
    " _____                           _  ______             _                _  _   \n",
    "/  ___|                         | | | ___ \\           | |              (_)| |  \n",
    "\\ `--.   ___   _   _  _ __    __| | | |_/ /___   _ __ | |_  _ __  __ _  _ | |_ \n",
    " `--. \\ / _ \\ | | | || '_ \\  / _` | |  __// _ \\ | '__|| __|| '__|/ _` || || __|\n",
    "/\\__/ /| (_) || |_| || | | || (_| | | |  | (_) || |   | |_ | |  | (_| || || |_ \n",
    "\\____/  \\___/  \\__,_||_| |_| \\__,_| \\_|   \\___/ |_|    \\__||_|   \\__,_||_| \\__|\n",
    "                                                                               \n",
    "                                                                               \n",
    "SO, basically in this code your picture is transformed to a onesecond audio file. using a p5js sketch i turn the webcam feed into grayscale grids, assign each grid to a group, add multiple oscillators, one for each group, and the average brightness of each group makes the frequnecy data. then we train a binary model based on audios gathered from your face, against some random files. and baam the model can detect you by hearing your face!!"
   ]
  },
  {
   "cell_type": "code",
   "execution_count": 1,
   "metadata": {},
   "outputs": [
    {
     "name": "stdout",
     "output_type": "stream",
     "text": [
      "Requirement already satisfied: librosa in c:\\users\\stuxn\\appdata\\local\\programs\\python\\python311\\lib\\site-packages (0.10.1)\n",
      "Requirement already satisfied: scikit-learn in c:\\users\\stuxn\\appdata\\local\\programs\\python\\python311\\lib\\site-packages (1.4.1.post1)\n",
      "Requirement already satisfied: numpy in c:\\users\\stuxn\\appdata\\local\\programs\\python\\python311\\lib\\site-packages (1.26.3)\n",
      "Requirement already satisfied: audioread>=2.1.9 in c:\\users\\stuxn\\appdata\\local\\programs\\python\\python311\\lib\\site-packages (from librosa) (3.0.1)\n",
      "Requirement already satisfied: scipy>=1.2.0 in c:\\users\\stuxn\\appdata\\local\\programs\\python\\python311\\lib\\site-packages (from librosa) (1.12.0)\n",
      "Requirement already satisfied: joblib>=0.14 in c:\\users\\stuxn\\appdata\\local\\programs\\python\\python311\\lib\\site-packages (from librosa) (1.3.2)\n",
      "Requirement already satisfied: decorator>=4.3.0 in c:\\users\\stuxn\\appdata\\roaming\\python\\python311\\site-packages (from librosa) (5.1.1)\n",
      "Requirement already satisfied: numba>=0.51.0 in c:\\users\\stuxn\\appdata\\local\\programs\\python\\python311\\lib\\site-packages (from librosa) (0.59.0)\n",
      "Requirement already satisfied: soundfile>=0.12.1 in c:\\users\\stuxn\\appdata\\local\\programs\\python\\python311\\lib\\site-packages (from librosa) (0.12.1)\n",
      "Requirement already satisfied: pooch>=1.0 in c:\\users\\stuxn\\appdata\\local\\programs\\python\\python311\\lib\\site-packages (from librosa) (1.8.1)\n",
      "Requirement already satisfied: soxr>=0.3.2 in c:\\users\\stuxn\\appdata\\local\\programs\\python\\python311\\lib\\site-packages (from librosa) (0.3.7)\n",
      "Requirement already satisfied: typing-extensions>=4.1.1 in c:\\users\\stuxn\\appdata\\local\\programs\\python\\python311\\lib\\site-packages (from librosa) (4.8.0)\n",
      "Requirement already satisfied: lazy-loader>=0.1 in c:\\users\\stuxn\\appdata\\local\\programs\\python\\python311\\lib\\site-packages (from librosa) (0.3)\n",
      "Requirement already satisfied: msgpack>=1.0 in c:\\users\\stuxn\\appdata\\local\\programs\\python\\python311\\lib\\site-packages (from librosa) (1.0.8)\n",
      "Requirement already satisfied: threadpoolctl>=2.0.0 in c:\\users\\stuxn\\appdata\\local\\programs\\python\\python311\\lib\\site-packages (from scikit-learn) (3.3.0)\n",
      "Requirement already satisfied: llvmlite<0.43,>=0.42.0dev0 in c:\\users\\stuxn\\appdata\\local\\programs\\python\\python311\\lib\\site-packages (from numba>=0.51.0->librosa) (0.42.0)\n",
      "Requirement already satisfied: platformdirs>=2.5.0 in c:\\users\\stuxn\\appdata\\roaming\\python\\python311\\site-packages (from pooch>=1.0->librosa) (4.2.0)\n",
      "Requirement already satisfied: packaging>=20.0 in c:\\users\\stuxn\\appdata\\local\\programs\\python\\python311\\lib\\site-packages (from pooch>=1.0->librosa) (23.2)\n",
      "Requirement already satisfied: requests>=2.19.0 in c:\\users\\stuxn\\appdata\\local\\programs\\python\\python311\\lib\\site-packages (from pooch>=1.0->librosa) (2.28.1)\n",
      "Requirement already satisfied: cffi>=1.0 in c:\\users\\stuxn\\appdata\\local\\programs\\python\\python311\\lib\\site-packages (from soundfile>=0.12.1->librosa) (1.16.0)\n",
      "Requirement already satisfied: pycparser in c:\\users\\stuxn\\appdata\\local\\programs\\python\\python311\\lib\\site-packages (from cffi>=1.0->soundfile>=0.12.1->librosa) (2.21)\n",
      "Requirement already satisfied: charset-normalizer<3,>=2 in c:\\users\\stuxn\\appdata\\local\\programs\\python\\python311\\lib\\site-packages (from requests>=2.19.0->pooch>=1.0->librosa) (2.1.1)\n",
      "Requirement already satisfied: idna<4,>=2.5 in c:\\users\\stuxn\\appdata\\local\\programs\\python\\python311\\lib\\site-packages (from requests>=2.19.0->pooch>=1.0->librosa) (3.4)\n",
      "Requirement already satisfied: urllib3<1.27,>=1.21.1 in c:\\users\\stuxn\\appdata\\local\\programs\\python\\python311\\lib\\site-packages (from requests>=2.19.0->pooch>=1.0->librosa) (1.26.13)\n",
      "Requirement already satisfied: certifi>=2017.4.17 in c:\\users\\stuxn\\appdata\\local\\programs\\python\\python311\\lib\\site-packages (from requests>=2.19.0->pooch>=1.0->librosa) (2022.12.7)\n"
     ]
    }
   ],
   "source": [
    "##!pip install librosa scikit-learn numpy\n"
   ]
  },
  {
   "cell_type": "markdown",
   "metadata": {},
   "source": [
    "Feature Extraction by computing the Mel frequency cepstral coefficients \n",
    "And\n",
    "Model Training\n",
    "this is a simple binary classification so using a Support Vector Machine (SVM) is okay"
   ]
  },
  {
   "cell_type": "code",
   "execution_count": 3,
   "metadata": {},
   "outputs": [
    {
     "name": "stdout",
     "output_type": "stream",
     "text": [
      "Model Accuracy: 0.8888888888888888\n"
     ]
    }
   ],
   "source": [
    "import os\n",
    "import librosa\n",
    "import numpy as np\n",
    "from sklearn.model_selection import train_test_split\n",
    "from sklearn.svm import SVC\n",
    "from sklearn.preprocessing import StandardScaler\n",
    "from sklearn.pipeline import make_pipeline\n",
    "\n",
    "# Feature extraction function\n",
    "def extract_features(file_path):\n",
    "    y, sr = librosa.load(file_path)\n",
    "    mfccs = np.mean(librosa.feature.mfcc(y=y, sr=sr, n_mfcc=40).T, axis=0)\n",
    "    return mfccs\n",
    "\n",
    "# Load and label dataset\n",
    "def load_dataset(directory):\n",
    "    features, labels = [], []\n",
    "    for filename in os.listdir(directory):\n",
    "        if filename.startswith('T_'):  # 'T_' prefix for true files\n",
    "            label = 1\n",
    "        elif filename.startswith('F_'):  # 'F_' prefix for false files\n",
    "            label = 0\n",
    "        else:\n",
    "            continue  \n",
    "        file_path = os.path.join(directory, filename)\n",
    "        features.append(extract_features(file_path))\n",
    "        labels.append(label)\n",
    "    return features, labels\n",
    "\n",
    "# directory containing audio files\n",
    "directory = './audio_files'\n",
    "features, labels = load_dataset(directory)\n",
    "\n",
    "# Splitting dataset into training and testing\n",
    "X_train, X_test, y_train, y_test = train_test_split(features, labels, test_size=0.25, random_state=42)\n",
    "\n",
    "# Creating and training the model\n",
    "model = make_pipeline(StandardScaler(), SVC(gamma='auto', probability=True))\n",
    "model.fit(X_train, y_train)\n",
    "\n",
    "# Testing the model\n",
    "accuracy = model.score(X_test, y_test)\n",
    "print(f'Model Accuracy: {accuracy}')\n"
   ]
  },
  {
   "cell_type": "markdown",
   "metadata": {},
   "source": [
    "Prediction\n",
    "predict whether a new file is similar or not based on the trained model"
   ]
  },
  {
   "cell_type": "code",
   "execution_count": 5,
   "metadata": {},
   "outputs": [
    {
     "name": "stdout",
     "output_type": "stream",
     "text": [
      "Prediction: True, Probability: [0.30806884 0.69193116]\n"
     ]
    }
   ],
   "source": [
    "def predict_similarity(model, file_path):\n",
    "    features = extract_features(file_path)\n",
    "    prediction = model.predict([features])\n",
    "    probability = model.predict_proba([features])[0]\n",
    "    return \"True\" if prediction[0] == 1 else \"False\", probability\n",
    "\n",
    "#Example\n",
    "new_file_path = './testtrue.wav'\n",
    "prediction, probability = predict_similarity(model, new_file_path)\n",
    "print(f'Prediction: {prediction}, Probability: {probability}')\n"
   ]
  }
 ],
 "metadata": {
  "kernelspec": {
   "display_name": "Python 3",
   "language": "python",
   "name": "python3"
  },
  "language_info": {
   "codemirror_mode": {
    "name": "ipython",
    "version": 3
   },
   "file_extension": ".py",
   "mimetype": "text/x-python",
   "name": "python",
   "nbconvert_exporter": "python",
   "pygments_lexer": "ipython3",
   "version": "3.11.8"
  }
 },
 "nbformat": 4,
 "nbformat_minor": 2
}
